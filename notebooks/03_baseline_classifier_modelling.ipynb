{
 "cells": [
  {
   "cell_type": "code",
   "execution_count": 1,
   "metadata": {},
   "outputs": [],
   "source": [
    "import pickle\n",
    "from scipy.sparse import csr_matrix\n"
   ]
  },
  {
   "cell_type": "code",
   "execution_count": 2,
   "metadata": {},
   "outputs": [
    {
     "name": "stdout",
     "output_type": "stream",
     "text": [
      "Random Over-Sampling dataset loaded - X shape: (89817, 10002), y length: 89817\n",
      "NearMiss dataset loaded - X shape: (5012, 10002), y length: 5012\n",
      "SMOTE dataset loaded - X shape: (89817, 10002), y length: 89817\n",
      "Tomek Links dataset loaded - X shape: (30455, 10002), y length: 30455\n",
      "Random Undersampling dataset loaded - X shape: (5012, 10002), y length: 5012\n",
      "SMOTE + Tomek Links dataset loaded - X shape: (86799, 10002), y length: 86799\n"
     ]
    }
   ],
   "source": [
    "# Load the resampled datasets\n",
    "with open('../data/processed/resampled_data.pkl', \"rb\") as f:\n",
    "    loaded_resampled_datasets = pickle.load(f)\n",
    "\n",
    "# Verify loaded data\n",
    "for method, data in loaded_resampled_datasets.items():\n",
    "    print(f\"{method} dataset loaded - X shape: {data['X'].shape}, y length: {len(data['y'])}\")"
   ]
  },
  {
   "cell_type": "code",
   "execution_count": 3,
   "metadata": {},
   "outputs": [
    {
     "name": "stdout",
     "output_type": "stream",
     "text": [
      "X_test shape: (10215, 3)\n",
      "y_test length: 10215\n",
      "Classes in label encoder: ['Anxiety' 'Bipolar' 'Depression' 'Normal' 'Personality disorder' 'Stress'\n",
      " 'Suicidal']\n"
     ]
    }
   ],
   "source": [
    "# Load the resampled datasets\n",
    "with open('../data/processed/test_data.pkl', \"rb\") as f:\n",
    "    loaded_resampled_test_data = pickle.load(f)\n",
    "\n",
    "# Extract the stored data correctly\n",
    "label_encoder = loaded_resampled_test_data[\"label_encoder\"]\n",
    "X_test = loaded_resampled_test_data[\"X_test\"]\n",
    "y_test = loaded_resampled_test_data[\"y_test\"]\n",
    "\n",
    "# Verify the loaded data\n",
    "print(f\"X_test shape: {X_test.shape}\")\n",
    "print(f\"y_test length: {len(y_test)}\")\n",
    "print(f\"Classes in label encoder: {label_encoder.classes_}\")\n"
   ]
  }
 ],
 "metadata": {
  "kernelspec": {
   "display_name": "venv",
   "language": "python",
   "name": "python3"
  },
  "language_info": {
   "codemirror_mode": {
    "name": "ipython",
    "version": 3
   },
   "file_extension": ".py",
   "mimetype": "text/x-python",
   "name": "python",
   "nbconvert_exporter": "python",
   "pygments_lexer": "ipython3",
   "version": "3.11.9"
  }
 },
 "nbformat": 4,
 "nbformat_minor": 2
}

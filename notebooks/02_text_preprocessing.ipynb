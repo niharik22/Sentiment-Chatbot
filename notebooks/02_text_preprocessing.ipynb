{
 "cells": [
  {
   "cell_type": "markdown",
   "metadata": {},
   "source": [
    "# Sentiment Analysis on Mental Health Statements  \n",
    "\n",
    "## 1. Introduction  \n",
    "This notebook focuses on **preprocessing and resampling** mental health-related statements to prepare them for sentiment classification. The dataset consists of statements categorized into `Anxiety`, `Depression`, `Suicidal`, `Stress`, and `Normal`. The workflow includes:  \n",
    "\n",
    "- **Data Cleaning & Preprocessing**: Removing noise, tokenization, stemming, and feature extraction.  \n",
    "- **Handling Imbalanced Data**: Applying various resampling techniques like SMOTE, NearMiss, and Random Oversampling/Undersampling.  \n",
    "- **Feature Engineering**: Extracting numerical and textual features using TF-IDF and other statistical methods.  \n",
    "\n",
    "The output of this notebook will be a balanced dataset, ready for sentiment classification modeling.\n"
   ]
  },
  {
   "cell_type": "code",
   "execution_count": 46,
   "metadata": {},
   "outputs": [],
   "source": [
    "import pandas as pd\n",
    "import numpy as np\n",
    "import matplotlib.pyplot as plt\n",
    "import seaborn as sns\n",
    "%matplotlib inline"
   ]
  },
  {
   "cell_type": "code",
   "execution_count": 47,
   "metadata": {},
   "outputs": [],
   "source": [
    "import nltk\n",
    "from nltk.tokenize import word_tokenize\n",
    "from nltk.stem import PorterStemmer"
   ]
  },
  {
   "cell_type": "code",
   "execution_count": 48,
   "metadata": {},
   "outputs": [
    {
     "name": "stderr",
     "output_type": "stream",
     "text": [
      "[nltk_data] Downloading package punkt_tab to\n",
      "[nltk_data]     C:\\Users\\nihar\\AppData\\Roaming\\nltk_data...\n",
      "[nltk_data]   Package punkt_tab is already up-to-date!\n"
     ]
    },
    {
     "data": {
      "text/plain": [
       "True"
      ]
     },
     "execution_count": 48,
     "metadata": {},
     "output_type": "execute_result"
    }
   ],
   "source": [
    "nltk.download('punkt_tab')"
   ]
  },
  {
   "cell_type": "markdown",
   "metadata": {},
   "source": [
    "# 2. Loading the Dataset"
   ]
  },
  {
   "cell_type": "code",
   "execution_count": 49,
   "metadata": {},
   "outputs": [],
   "source": [
    "# Loading the dataset into a pandas DataFrame\n",
    "data = pd.read_csv('../data/raw/cleaned_sentiment_data.csv')"
   ]
  },
  {
   "cell_type": "code",
   "execution_count": 50,
   "metadata": {},
   "outputs": [
    {
     "data": {
      "text/html": [
       "<div>\n",
       "<style scoped>\n",
       "    .dataframe tbody tr th:only-of-type {\n",
       "        vertical-align: middle;\n",
       "    }\n",
       "\n",
       "    .dataframe tbody tr th {\n",
       "        vertical-align: top;\n",
       "    }\n",
       "\n",
       "    .dataframe thead th {\n",
       "        text-align: right;\n",
       "    }\n",
       "</style>\n",
       "<table border=\"1\" class=\"dataframe\">\n",
       "  <thead>\n",
       "    <tr style=\"text-align: right;\">\n",
       "      <th></th>\n",
       "      <th>statement</th>\n",
       "      <th>status</th>\n",
       "    </tr>\n",
       "  </thead>\n",
       "  <tbody>\n",
       "    <tr>\n",
       "      <th>0</th>\n",
       "      <td>oh my gosh</td>\n",
       "      <td>Anxiety</td>\n",
       "    </tr>\n",
       "    <tr>\n",
       "      <th>1</th>\n",
       "      <td>trouble sleeping, confused mind, restless hear...</td>\n",
       "      <td>Anxiety</td>\n",
       "    </tr>\n",
       "    <tr>\n",
       "      <th>2</th>\n",
       "      <td>All wrong, back off dear, forward doubt. Stay ...</td>\n",
       "      <td>Anxiety</td>\n",
       "    </tr>\n",
       "    <tr>\n",
       "      <th>3</th>\n",
       "      <td>I've shifted my focus to something else but I'...</td>\n",
       "      <td>Anxiety</td>\n",
       "    </tr>\n",
       "    <tr>\n",
       "      <th>4</th>\n",
       "      <td>I'm restless and restless, it's been a month n...</td>\n",
       "      <td>Anxiety</td>\n",
       "    </tr>\n",
       "  </tbody>\n",
       "</table>\n",
       "</div>"
      ],
      "text/plain": [
       "                                           statement   status\n",
       "0                                         oh my gosh  Anxiety\n",
       "1  trouble sleeping, confused mind, restless hear...  Anxiety\n",
       "2  All wrong, back off dear, forward doubt. Stay ...  Anxiety\n",
       "3  I've shifted my focus to something else but I'...  Anxiety\n",
       "4  I'm restless and restless, it's been a month n...  Anxiety"
      ]
     },
     "execution_count": 50,
     "metadata": {},
     "output_type": "execute_result"
    }
   ],
   "source": [
    "data.head()"
   ]
  },
  {
   "cell_type": "markdown",
   "metadata": {},
   "source": [
    "<!-- # 3. Text - Data Preprocessing -->"
   ]
  },
  {
   "cell_type": "markdown",
   "metadata": {},
   "source": [
    "## 3. Text Data Preprocessing"
   ]
  },
  {
   "cell_type": "code",
   "execution_count": 51,
   "metadata": {},
   "outputs": [],
   "source": [
    "# Calculate the number of characters and sentences\n",
    "data['num_of_characters'] = data['statement'].str.len()\n",
    "data['num_of_sentences'] = data['statement'].apply(lambda x: len(nltk.sent_tokenize(x)))\n",
    "\n",
    "# Generate descriptive statistics\n",
    "description = data[['num_of_characters', 'num_of_sentences']].describe()"
   ]
  },
  {
   "cell_type": "code",
   "execution_count": 52,
   "metadata": {},
   "outputs": [
    {
     "name": "stdout",
     "output_type": "stream",
     "text": [
      "       num_of_characters  num_of_sentences\n",
      "count       51073.000000      51073.000000\n",
      "mean          575.375051          6.249251\n",
      "std           847.661079         10.762749\n",
      "min             2.000000          1.000000\n",
      "25%            79.000000          1.000000\n",
      "50%           313.000000          3.000000\n",
      "75%           745.000000          8.000000\n",
      "max         32759.000000       1260.000000\n"
     ]
    }
   ],
   "source": [
    "\n",
    "# Display the descriptive statistics of character and sentence counts\n",
    "print(description)"
   ]
  },
  {
   "cell_type": "markdown",
   "metadata": {},
   "source": [
    "### Cleaning Text Data\n",
    "\n",
    "Removing URLs, punctuation, special characters, and converting text to lowercase for better processing."
   ]
  },
  {
   "cell_type": "code",
   "execution_count": 53,
   "metadata": {},
   "outputs": [],
   "source": [
    "import re\n",
    "\n",
    "def clean_text(text):\n",
    "    \"\"\"\n",
    "    Cleans the text by:\n",
    "    - Removing URLs, markdown links, and user handles (@mentions)\n",
    "    - Converting text to lowercase\n",
    "    - Removing punctuation, numbers, and extra whitespace\n",
    "    \"\"\"\n",
    "    if isinstance(text, str):  # Ensure input is a string\n",
    "        text = text.lower()  # Convert to lowercase\n",
    "        text = re.sub(r'http[s]?://\\S+', '', text)  # Remove URLs\n",
    "        text = re.sub(r'\\[.*?\\]\\(.*?\\)', '', text)  # Remove markdown links\n",
    "        text = re.sub(r'@\\w+', '', text)  # Remove @mentions\n",
    "        text = re.sub(r'[^\\w\\s]', '', text)  # Remove punctuation\n",
    "        text = re.sub(r'\\d+', '', text)  # Remove numbers\n",
    "        text = ' '.join(text.split())  # Remove extra spaces\n",
    "        return text\n",
    "    return ''\n"
   ]
  },
  {
   "cell_type": "code",
   "execution_count": 54,
   "metadata": {},
   "outputs": [],
   "source": [
    "# Apply the cleaning function to the 'statement' column\n",
    "data['cleaned_text'] = data['statement'].apply(clean_text)"
   ]
  },
  {
   "cell_type": "code",
   "execution_count": 55,
   "metadata": {},
   "outputs": [
    {
     "data": {
      "text/html": [
       "<div>\n",
       "<style scoped>\n",
       "    .dataframe tbody tr th:only-of-type {\n",
       "        vertical-align: middle;\n",
       "    }\n",
       "\n",
       "    .dataframe tbody tr th {\n",
       "        vertical-align: top;\n",
       "    }\n",
       "\n",
       "    .dataframe thead th {\n",
       "        text-align: right;\n",
       "    }\n",
       "</style>\n",
       "<table border=\"1\" class=\"dataframe\">\n",
       "  <thead>\n",
       "    <tr style=\"text-align: right;\">\n",
       "      <th></th>\n",
       "      <th>statement</th>\n",
       "      <th>cleaned_text</th>\n",
       "    </tr>\n",
       "  </thead>\n",
       "  <tbody>\n",
       "    <tr>\n",
       "      <th>0</th>\n",
       "      <td>oh my gosh</td>\n",
       "      <td>oh my gosh</td>\n",
       "    </tr>\n",
       "    <tr>\n",
       "      <th>1</th>\n",
       "      <td>trouble sleeping, confused mind, restless hear...</td>\n",
       "      <td>trouble sleeping confused mind restless heart ...</td>\n",
       "    </tr>\n",
       "    <tr>\n",
       "      <th>2</th>\n",
       "      <td>All wrong, back off dear, forward doubt. Stay ...</td>\n",
       "      <td>all wrong back off dear forward doubt stay in ...</td>\n",
       "    </tr>\n",
       "    <tr>\n",
       "      <th>3</th>\n",
       "      <td>I've shifted my focus to something else but I'...</td>\n",
       "      <td>ive shifted my focus to something else but im ...</td>\n",
       "    </tr>\n",
       "    <tr>\n",
       "      <th>4</th>\n",
       "      <td>I'm restless and restless, it's been a month n...</td>\n",
       "      <td>im restless and restless its been a month now ...</td>\n",
       "    </tr>\n",
       "    <tr>\n",
       "      <th>5</th>\n",
       "      <td>every break, you must be nervous, like somethi...</td>\n",
       "      <td>every break you must be nervous like something...</td>\n",
       "    </tr>\n",
       "    <tr>\n",
       "      <th>6</th>\n",
       "      <td>I feel scared, anxious, what can I do? And may...</td>\n",
       "      <td>i feel scared anxious what can i do and may my...</td>\n",
       "    </tr>\n",
       "    <tr>\n",
       "      <th>7</th>\n",
       "      <td>Have you ever felt nervous but didn't know why?</td>\n",
       "      <td>have you ever felt nervous but didnt know why</td>\n",
       "    </tr>\n",
       "    <tr>\n",
       "      <th>8</th>\n",
       "      <td>I haven't slept well for 2 days, it's like I'm...</td>\n",
       "      <td>i havent slept well for days its like im restl...</td>\n",
       "    </tr>\n",
       "    <tr>\n",
       "      <th>9</th>\n",
       "      <td>I'm really worried, I want to cry.</td>\n",
       "      <td>im really worried i want to cry</td>\n",
       "    </tr>\n",
       "  </tbody>\n",
       "</table>\n",
       "</div>"
      ],
      "text/plain": [
       "                                           statement  \\\n",
       "0                                         oh my gosh   \n",
       "1  trouble sleeping, confused mind, restless hear...   \n",
       "2  All wrong, back off dear, forward doubt. Stay ...   \n",
       "3  I've shifted my focus to something else but I'...   \n",
       "4  I'm restless and restless, it's been a month n...   \n",
       "5  every break, you must be nervous, like somethi...   \n",
       "6  I feel scared, anxious, what can I do? And may...   \n",
       "7    Have you ever felt nervous but didn't know why?   \n",
       "8  I haven't slept well for 2 days, it's like I'm...   \n",
       "9                 I'm really worried, I want to cry.   \n",
       "\n",
       "                                        cleaned_text  \n",
       "0                                         oh my gosh  \n",
       "1  trouble sleeping confused mind restless heart ...  \n",
       "2  all wrong back off dear forward doubt stay in ...  \n",
       "3  ive shifted my focus to something else but im ...  \n",
       "4  im restless and restless its been a month now ...  \n",
       "5  every break you must be nervous like something...  \n",
       "6  i feel scared anxious what can i do and may my...  \n",
       "7      have you ever felt nervous but didnt know why  \n",
       "8  i havent slept well for days its like im restl...  \n",
       "9                    im really worried i want to cry  "
      ]
     },
     "execution_count": 55,
     "metadata": {},
     "output_type": "execute_result"
    }
   ],
   "source": [
    "data[['statement', 'cleaned_text']].head(10)\n"
   ]
  },
  {
   "cell_type": "markdown",
   "metadata": {},
   "source": [
    "### Tokenization\n",
    "\n",
    "Splitting statements into individual words (tokens) for further processing."
   ]
  },
  {
   "cell_type": "code",
   "execution_count": 56,
   "metadata": {},
   "outputs": [],
   "source": [
    "# Tokenizing the cleaned text\n",
    "data['tokens'] = data['statement'].apply(word_tokenize)\n"
   ]
  },
  {
   "cell_type": "code",
   "execution_count": 57,
   "metadata": {},
   "outputs": [
    {
     "data": {
      "text/html": [
       "<div>\n",
       "<style scoped>\n",
       "    .dataframe tbody tr th:only-of-type {\n",
       "        vertical-align: middle;\n",
       "    }\n",
       "\n",
       "    .dataframe tbody tr th {\n",
       "        vertical-align: top;\n",
       "    }\n",
       "\n",
       "    .dataframe thead th {\n",
       "        text-align: right;\n",
       "    }\n",
       "</style>\n",
       "<table border=\"1\" class=\"dataframe\">\n",
       "  <thead>\n",
       "    <tr style=\"text-align: right;\">\n",
       "      <th></th>\n",
       "      <th>statement</th>\n",
       "      <th>status</th>\n",
       "      <th>num_of_characters</th>\n",
       "      <th>num_of_sentences</th>\n",
       "      <th>cleaned_text</th>\n",
       "      <th>tokens</th>\n",
       "    </tr>\n",
       "  </thead>\n",
       "  <tbody>\n",
       "    <tr>\n",
       "      <th>0</th>\n",
       "      <td>oh my gosh</td>\n",
       "      <td>Anxiety</td>\n",
       "      <td>10</td>\n",
       "      <td>1</td>\n",
       "      <td>oh my gosh</td>\n",
       "      <td>[oh, my, gosh]</td>\n",
       "    </tr>\n",
       "    <tr>\n",
       "      <th>1</th>\n",
       "      <td>trouble sleeping, confused mind, restless hear...</td>\n",
       "      <td>Anxiety</td>\n",
       "      <td>64</td>\n",
       "      <td>2</td>\n",
       "      <td>trouble sleeping confused mind restless heart ...</td>\n",
       "      <td>[trouble, sleeping, ,, confused, mind, ,, rest...</td>\n",
       "    </tr>\n",
       "    <tr>\n",
       "      <th>2</th>\n",
       "      <td>All wrong, back off dear, forward doubt. Stay ...</td>\n",
       "      <td>Anxiety</td>\n",
       "      <td>78</td>\n",
       "      <td>2</td>\n",
       "      <td>all wrong back off dear forward doubt stay in ...</td>\n",
       "      <td>[All, wrong, ,, back, off, dear, ,, forward, d...</td>\n",
       "    </tr>\n",
       "    <tr>\n",
       "      <th>3</th>\n",
       "      <td>I've shifted my focus to something else but I'...</td>\n",
       "      <td>Anxiety</td>\n",
       "      <td>61</td>\n",
       "      <td>1</td>\n",
       "      <td>ive shifted my focus to something else but im ...</td>\n",
       "      <td>[I, 've, shifted, my, focus, to, something, el...</td>\n",
       "    </tr>\n",
       "    <tr>\n",
       "      <th>4</th>\n",
       "      <td>I'm restless and restless, it's been a month n...</td>\n",
       "      <td>Anxiety</td>\n",
       "      <td>72</td>\n",
       "      <td>2</td>\n",
       "      <td>im restless and restless its been a month now ...</td>\n",
       "      <td>[I, 'm, restless, and, restless, ,, it, 's, be...</td>\n",
       "    </tr>\n",
       "  </tbody>\n",
       "</table>\n",
       "</div>"
      ],
      "text/plain": [
       "                                           statement   status  \\\n",
       "0                                         oh my gosh  Anxiety   \n",
       "1  trouble sleeping, confused mind, restless hear...  Anxiety   \n",
       "2  All wrong, back off dear, forward doubt. Stay ...  Anxiety   \n",
       "3  I've shifted my focus to something else but I'...  Anxiety   \n",
       "4  I'm restless and restless, it's been a month n...  Anxiety   \n",
       "\n",
       "   num_of_characters  num_of_sentences  \\\n",
       "0                 10                 1   \n",
       "1                 64                 2   \n",
       "2                 78                 2   \n",
       "3                 61                 1   \n",
       "4                 72                 2   \n",
       "\n",
       "                                        cleaned_text  \\\n",
       "0                                         oh my gosh   \n",
       "1  trouble sleeping confused mind restless heart ...   \n",
       "2  all wrong back off dear forward doubt stay in ...   \n",
       "3  ive shifted my focus to something else but im ...   \n",
       "4  im restless and restless its been a month now ...   \n",
       "\n",
       "                                              tokens  \n",
       "0                                     [oh, my, gosh]  \n",
       "1  [trouble, sleeping, ,, confused, mind, ,, rest...  \n",
       "2  [All, wrong, ,, back, off, dear, ,, forward, d...  \n",
       "3  [I, 've, shifted, my, focus, to, something, el...  \n",
       "4  [I, 'm, restless, and, restless, ,, it, 's, be...  "
      ]
     },
     "execution_count": 57,
     "metadata": {},
     "output_type": "execute_result"
    }
   ],
   "source": [
    "data.head()"
   ]
  },
  {
   "cell_type": "markdown",
   "metadata": {},
   "source": [
    "### Stemming\n",
    "\n",
    "Stemming reduces words to their root form, but it may produce incorrect spellings (e.g., \"crying\" → \"cri\"). Despite this, **PorterStemmer** is useful because:  \n",
    "\n",
    "- **Reduces vocabulary size** (e.g., \"running,\" \"runs,\" \"ran\" → \"run\")  \n",
    "- **Improves model generalization** by grouping word variations  \n",
    "- **Enhances efficiency** compared to lemmatization  \n",
    "- **Balances accuracy and speed** for large-scale text processing  \n",
    "\n",
    "Even with minor inaccuracies, PorterStemmer helps simplify text and improve NLP model performance.  \n",
    "\n"
   ]
  },
  {
   "cell_type": "code",
   "execution_count": 58,
   "metadata": {},
   "outputs": [],
   "source": [
    "# Initialize the stemmer\n",
    "stemmer = PorterStemmer()\n",
    "\n",
    "# Function to stem tokens and convert them to strings\n",
    "def stem_tokens(tokens):\n",
    "    return ' '.join(stemmer.stem(str(token)) for token in tokens)\n",
    "\n",
    "# Applying stemming to tokenized words\n",
    "data['tokens_stemmed'] = data['tokens'].apply(stem_tokens)\n"
   ]
  },
  {
   "cell_type": "code",
   "execution_count": 59,
   "metadata": {},
   "outputs": [
    {
     "data": {
      "text/html": [
       "<div>\n",
       "<style scoped>\n",
       "    .dataframe tbody tr th:only-of-type {\n",
       "        vertical-align: middle;\n",
       "    }\n",
       "\n",
       "    .dataframe tbody tr th {\n",
       "        vertical-align: top;\n",
       "    }\n",
       "\n",
       "    .dataframe thead th {\n",
       "        text-align: right;\n",
       "    }\n",
       "</style>\n",
       "<table border=\"1\" class=\"dataframe\">\n",
       "  <thead>\n",
       "    <tr style=\"text-align: right;\">\n",
       "      <th></th>\n",
       "      <th>statement</th>\n",
       "      <th>status</th>\n",
       "      <th>num_of_characters</th>\n",
       "      <th>num_of_sentences</th>\n",
       "      <th>cleaned_text</th>\n",
       "      <th>tokens</th>\n",
       "      <th>tokens_stemmed</th>\n",
       "    </tr>\n",
       "  </thead>\n",
       "  <tbody>\n",
       "    <tr>\n",
       "      <th>0</th>\n",
       "      <td>oh my gosh</td>\n",
       "      <td>Anxiety</td>\n",
       "      <td>10</td>\n",
       "      <td>1</td>\n",
       "      <td>oh my gosh</td>\n",
       "      <td>[oh, my, gosh]</td>\n",
       "      <td>oh my gosh</td>\n",
       "    </tr>\n",
       "    <tr>\n",
       "      <th>1</th>\n",
       "      <td>trouble sleeping, confused mind, restless hear...</td>\n",
       "      <td>Anxiety</td>\n",
       "      <td>64</td>\n",
       "      <td>2</td>\n",
       "      <td>trouble sleeping confused mind restless heart ...</td>\n",
       "      <td>[trouble, sleeping, ,, confused, mind, ,, rest...</td>\n",
       "      <td>troubl sleep , confus mind , restless heart . ...</td>\n",
       "    </tr>\n",
       "    <tr>\n",
       "      <th>2</th>\n",
       "      <td>All wrong, back off dear, forward doubt. Stay ...</td>\n",
       "      <td>Anxiety</td>\n",
       "      <td>78</td>\n",
       "      <td>2</td>\n",
       "      <td>all wrong back off dear forward doubt stay in ...</td>\n",
       "      <td>[All, wrong, ,, back, off, dear, ,, forward, d...</td>\n",
       "      <td>all wrong , back off dear , forward doubt . st...</td>\n",
       "    </tr>\n",
       "    <tr>\n",
       "      <th>3</th>\n",
       "      <td>I've shifted my focus to something else but I'...</td>\n",
       "      <td>Anxiety</td>\n",
       "      <td>61</td>\n",
       "      <td>1</td>\n",
       "      <td>ive shifted my focus to something else but im ...</td>\n",
       "      <td>[I, 've, shifted, my, focus, to, something, el...</td>\n",
       "      <td>i 've shift my focu to someth els but i 'm sti...</td>\n",
       "    </tr>\n",
       "    <tr>\n",
       "      <th>4</th>\n",
       "      <td>I'm restless and restless, it's been a month n...</td>\n",
       "      <td>Anxiety</td>\n",
       "      <td>72</td>\n",
       "      <td>2</td>\n",
       "      <td>im restless and restless its been a month now ...</td>\n",
       "      <td>[I, 'm, restless, and, restless, ,, it, 's, be...</td>\n",
       "      <td>i 'm restless and restless , it 's been a mont...</td>\n",
       "    </tr>\n",
       "  </tbody>\n",
       "</table>\n",
       "</div>"
      ],
      "text/plain": [
       "                                           statement   status  \\\n",
       "0                                         oh my gosh  Anxiety   \n",
       "1  trouble sleeping, confused mind, restless hear...  Anxiety   \n",
       "2  All wrong, back off dear, forward doubt. Stay ...  Anxiety   \n",
       "3  I've shifted my focus to something else but I'...  Anxiety   \n",
       "4  I'm restless and restless, it's been a month n...  Anxiety   \n",
       "\n",
       "   num_of_characters  num_of_sentences  \\\n",
       "0                 10                 1   \n",
       "1                 64                 2   \n",
       "2                 78                 2   \n",
       "3                 61                 1   \n",
       "4                 72                 2   \n",
       "\n",
       "                                        cleaned_text  \\\n",
       "0                                         oh my gosh   \n",
       "1  trouble sleeping confused mind restless heart ...   \n",
       "2  all wrong back off dear forward doubt stay in ...   \n",
       "3  ive shifted my focus to something else but im ...   \n",
       "4  im restless and restless its been a month now ...   \n",
       "\n",
       "                                              tokens  \\\n",
       "0                                     [oh, my, gosh]   \n",
       "1  [trouble, sleeping, ,, confused, mind, ,, rest...   \n",
       "2  [All, wrong, ,, back, off, dear, ,, forward, d...   \n",
       "3  [I, 've, shifted, my, focus, to, something, el...   \n",
       "4  [I, 'm, restless, and, restless, ,, it, 's, be...   \n",
       "\n",
       "                                      tokens_stemmed  \n",
       "0                                         oh my gosh  \n",
       "1  troubl sleep , confus mind , restless heart . ...  \n",
       "2  all wrong , back off dear , forward doubt . st...  \n",
       "3  i 've shift my focu to someth els but i 'm sti...  \n",
       "4  i 'm restless and restless , it 's been a mont...  "
      ]
     },
     "execution_count": 59,
     "metadata": {},
     "output_type": "execute_result"
    }
   ],
   "source": [
    "\n",
    "data.head()"
   ]
  },
  {
   "cell_type": "markdown",
   "metadata": {},
   "source": [
    "### Keep Stopwords for Better Sentiment Analysis  \n",
    "\n",
    "Stopwords may seem insignificant, but in sentiment analysis, they provide crucial context. Words like \"what,\" \"why,\" and \"if\" shape meaning and emotion. Removing them can weaken insights, especially in mental health analysis. Instead of discarding all stopwords, consider their impact on context and sentiment.\n"
   ]
  },
  {
   "cell_type": "markdown",
   "metadata": {},
   "source": [
    "### Stratified split & Label Encoding\n",
    "\n",
    "Split Train-Test using stratified technique "
   ]
  },
  {
   "cell_type": "code",
   "execution_count": 60,
   "metadata": {},
   "outputs": [],
   "source": [
    "from sklearn.model_selection import StratifiedShuffleSplit\n",
    "from sklearn.preprocessing import LabelEncoder\n"
   ]
  },
  {
   "cell_type": "code",
   "execution_count": 61,
   "metadata": {},
   "outputs": [],
   "source": [
    "\n",
    "X = data[['tokens_stemmed', 'num_of_characters', 'num_of_sentences']]  # features\n",
    "y = data['status']\n",
    "lbl_enc = LabelEncoder()\n",
    "y = lbl_enc.fit_transform(y.values)"
   ]
  },
  {
   "cell_type": "code",
   "execution_count": 62,
   "metadata": {},
   "outputs": [
    {
     "data": {
      "text/plain": [
       "{'Anxiety': np.int64(0),\n",
       " 'Bipolar': np.int64(1),\n",
       " 'Depression': np.int64(2),\n",
       " 'Normal': np.int64(3),\n",
       " 'Personality disorder': np.int64(4),\n",
       " 'Stress': np.int64(5),\n",
       " 'Suicidal': np.int64(6)}"
      ]
     },
     "execution_count": 62,
     "metadata": {},
     "output_type": "execute_result"
    }
   ],
   "source": [
    "dict(zip(lbl_enc.classes_, lbl_enc.transform(lbl_enc.classes_)))"
   ]
  },
  {
   "cell_type": "code",
   "execution_count": 63,
   "metadata": {},
   "outputs": [],
   "source": [
    "y = pd.Series(y)"
   ]
  },
  {
   "cell_type": "code",
   "execution_count": 64,
   "metadata": {},
   "outputs": [],
   "source": [
    "\n",
    "# Create a stratified shuffle split with 1 iteration\n",
    "sss = StratifiedShuffleSplit(n_splits=1, test_size=0.2, random_state=42)\n",
    "for train_index, test_index in sss.split(X, y):\n",
    "    X_train, X_test = X.iloc[train_index], X.iloc[test_index]\n",
    "    y_train, y_test = y.iloc[train_index], y.iloc[test_index]\n"
   ]
  },
  {
   "cell_type": "code",
   "execution_count": 65,
   "metadata": {},
   "outputs": [
    {
     "data": {
      "text/plain": [
       "((40858, 3), (10215, 3), (40858,), (40858,))"
      ]
     },
     "execution_count": 65,
     "metadata": {},
     "output_type": "execute_result"
    }
   ],
   "source": [
    "X_train.shape, X_test.shape, y_train.shape, y_train.shape"
   ]
  },
  {
   "cell_type": "code",
   "execution_count": 91,
   "metadata": {},
   "outputs": [
    {
     "data": {
      "text/html": [
       "<div>\n",
       "<style scoped>\n",
       "    .dataframe tbody tr th:only-of-type {\n",
       "        vertical-align: middle;\n",
       "    }\n",
       "\n",
       "    .dataframe tbody tr th {\n",
       "        vertical-align: top;\n",
       "    }\n",
       "\n",
       "    .dataframe thead th {\n",
       "        text-align: right;\n",
       "    }\n",
       "</style>\n",
       "<table border=\"1\" class=\"dataframe\">\n",
       "  <thead>\n",
       "    <tr style=\"text-align: right;\">\n",
       "      <th></th>\n",
       "      <th>tokens_stemmed</th>\n",
       "      <th>num_of_characters</th>\n",
       "      <th>num_of_sentences</th>\n",
       "    </tr>\n",
       "  </thead>\n",
       "  <tbody>\n",
       "    <tr>\n",
       "      <th>9722</th>\n",
       "      <td>i hate myself and do not understand whi i shou...</td>\n",
       "      <td>604</td>\n",
       "      <td>8</td>\n",
       "    </tr>\n",
       "    <tr>\n",
       "      <th>48313</th>\n",
       "      <td>i 'm at the edg i have been have chronic tensi...</td>\n",
       "      <td>505</td>\n",
       "      <td>5</td>\n",
       "    </tr>\n",
       "    <tr>\n",
       "      <th>30428</th>\n",
       "      <td>i wish i wa free that night . i 'm kind of mad...</td>\n",
       "      <td>63</td>\n",
       "      <td>2</td>\n",
       "    </tr>\n",
       "    <tr>\n",
       "      <th>23853</th>\n",
       "      <td>i do not know what to do anymor . i know there...</td>\n",
       "      <td>1264</td>\n",
       "      <td>15</td>\n",
       "    </tr>\n",
       "    <tr>\n",
       "      <th>35946</th>\n",
       "      <td>i dont have long left thi past month ha been t...</td>\n",
       "      <td>905</td>\n",
       "      <td>1</td>\n",
       "    </tr>\n",
       "  </tbody>\n",
       "</table>\n",
       "</div>"
      ],
      "text/plain": [
       "                                          tokens_stemmed  num_of_characters  \\\n",
       "9722   i hate myself and do not understand whi i shou...                604   \n",
       "48313  i 'm at the edg i have been have chronic tensi...                505   \n",
       "30428  i wish i wa free that night . i 'm kind of mad...                 63   \n",
       "23853  i do not know what to do anymor . i know there...               1264   \n",
       "35946  i dont have long left thi past month ha been t...                905   \n",
       "\n",
       "       num_of_sentences  \n",
       "9722                  8  \n",
       "48313                 5  \n",
       "30428                 2  \n",
       "23853                15  \n",
       "35946                 1  "
      ]
     },
     "execution_count": 91,
     "metadata": {},
     "output_type": "execute_result"
    }
   ],
   "source": [
    "X_train.head()"
   ]
  },
  {
   "cell_type": "code",
   "execution_count": 92,
   "metadata": {},
   "outputs": [
    {
     "data": {
      "text/plain": [
       "9722     2\n",
       "48313    5\n",
       "30428    3\n",
       "23853    6\n",
       "35946    6\n",
       "dtype: int64"
      ]
     },
     "execution_count": 92,
     "metadata": {},
     "output_type": "execute_result"
    }
   ],
   "source": [
    "y_train.head()"
   ]
  },
  {
   "cell_type": "markdown",
   "metadata": {},
   "source": [
    "### Resampling Data\n",
    "\n",
    "Handling class imbalance using various resampling techniques such as SMOTE, NearMiss, and Random Undersampling."
   ]
  },
  {
   "cell_type": "code",
   "execution_count": 99,
   "metadata": {},
   "outputs": [],
   "source": [
    "import numpy as np\n",
    "import pandas as pd\n",
    "from scipy.sparse import hstack, csr_matrix\n",
    "from collections import Counter\n",
    "from sklearn.feature_extraction.text import TfidfVectorizer\n",
    "from imblearn.over_sampling import SMOTE, RandomOverSampler\n",
    "from imblearn.under_sampling import RandomUnderSampler, NearMiss\n",
    "from imblearn.combine import SMOTETomek\n",
    "from imblearn.under_sampling import TomekLinks\n",
    "from sklearn.model_selection import train_test_split"
   ]
  },
  {
   "cell_type": "code",
   "execution_count": 100,
   "metadata": {},
   "outputs": [
    {
     "name": "stdout",
     "output_type": "stream",
     "text": [
      " Feature Extraction Completed! Shape: (40858, 10002)\n"
     ]
    }
   ],
   "source": [
    "# Vectorization - TF-IDF\n",
    "vectorizer = TfidfVectorizer(ngram_range=(1, 2), max_features=10000)  # Reduced to save memory\n",
    "X_train_tfidf = vectorizer.fit_transform(X_train['tokens_stemmed'])\n",
    "X_test_tfidf = vectorizer.transform(X_test['tokens_stemmed'])\n",
    "\n",
    "# Extract Numerical Features (Keep Sparse)\n",
    "X_train_num = csr_matrix(X_train[['num_of_characters', 'num_of_sentences']].values)\n",
    "X_test_num = csr_matrix(X_test[['num_of_characters', 'num_of_sentences']].values)\n",
    "\n",
    "# Combine Features (TF-IDF + Numerical)\n",
    "X_train_combined = hstack([X_train_tfidf, X_train_num])  # Sparse matrix\n",
    "X_test_combined = hstack([X_test_tfidf, X_test_num])  # Sparse matrix\n",
    "\n",
    "print(\" Feature Extraction Completed! Shape:\", X_train_combined.shape)"
   ]
  },
  {
   "cell_type": "code",
   "execution_count": 101,
   "metadata": {},
   "outputs": [
    {
     "name": "stdout",
     "output_type": "stream",
     "text": [
      "Original Class Distribution: Counter({3: 12831, 2: 12069, 6: 8513, 0: 2894, 1: 2001, 5: 1834, 4: 716})\n"
     ]
    }
   ],
   "source": [
    "print(f\"Original Class Distribution: {Counter(y_train)}\")"
   ]
  },
  {
   "cell_type": "code",
   "execution_count": 106,
   "metadata": {},
   "outputs": [],
   "source": [
    "\n",
    "# Define resampling techniques\n",
    "sampling_methods = {\n",
    "    \"Random Over-Sampling\": RandomOverSampler(random_state=101),\n",
    "    \"NearMiss\": NearMiss(version=1),\n",
    "    \"SMOTE\": SMOTE(random_state=101),\n",
    "    \"Tomek Links\": TomekLinks(),\n",
    "    \"Random Undersampling\": RandomUnderSampler(random_state=101),\n",
    "    \"SMOTE + Tomek Links\": SMOTETomek(random_state=101)\n",
    "}"
   ]
  },
  {
   "cell_type": "code",
   "execution_count": 107,
   "metadata": {},
   "outputs": [
    {
     "name": "stdout",
     "output_type": "stream",
     "text": [
      "Applying Random Over-Sampling...\n",
      "Random Over-Sampling applied successfully - New Class Distribution: Counter({2: 12831, 5: 12831, 3: 12831, 6: 12831, 0: 12831, 4: 12831, 1: 12831})\n",
      "Applying NearMiss...\n",
      "NearMiss applied successfully - New Class Distribution: Counter({0: 716, 1: 716, 2: 716, 3: 716, 4: 716, 5: 716, 6: 716})\n",
      "Applying SMOTE...\n",
      "SMOTE applied successfully - New Class Distribution: Counter({2: 12831, 5: 12831, 3: 12831, 6: 12831, 0: 12831, 4: 12831, 1: 12831})\n",
      "Applying Tomek Links...\n",
      "Tomek Links applied successfully - New Class Distribution: Counter({3: 11725, 2: 8601, 6: 5428, 0: 1716, 1: 1135, 5: 1134, 4: 716})\n",
      "Applying Random Undersampling...\n",
      "Random Undersampling applied successfully - New Class Distribution: Counter({0: 716, 1: 716, 2: 716, 3: 716, 4: 716, 5: 716, 6: 716})\n",
      "Applying SMOTE + Tomek Links...\n",
      "SMOTE + Tomek Links applied successfully - New Class Distribution: Counter({3: 12744, 5: 12643, 4: 12530, 1: 12460, 0: 12456, 6: 12060, 2: 11906})\n",
      "Resampling Process Completed!\n"
     ]
    }
   ],
   "source": [
    "resampled_datasets = {}\n",
    "for method, sampler in sampling_methods.items():\n",
    "    try:\n",
    "        print(f\"Applying {method}...\")\n",
    "\n",
    "        # Convert to dense array **only when required**\n",
    "        if method in [\"Random Over-Sampling\"]:\n",
    "            X_resampled, y_resampled = sampler.fit_resample(X_train_combined.toarray(), y_train)\n",
    "        else:\n",
    "            X_resampled, y_resampled = sampler.fit_resample(X_train_combined, y_train)  # Keep sparse format\n",
    "\n",
    "        resampled_datasets[method] = (csr_matrix(X_resampled), y_resampled)  # Store as sparse\n",
    "        print(f\"{method} applied successfully - New Class Distribution: {Counter(y_resampled)}\")\n",
    "\n",
    "    except MemoryError as e:\n",
    "        print(f\"{method} failed due to memory limitations: {e}\")\n",
    "\n",
    "print(\"Resampling Process Completed!\")"
   ]
  },
  {
   "cell_type": "markdown",
   "metadata": {},
   "source": [
    "### Exporting the re-sampled data"
   ]
  },
  {
   "cell_type": "code",
   "execution_count": null,
   "metadata": {},
   "outputs": [
    {
     "name": "stdout",
     "output_type": "stream",
     "text": [
      "All resampled datasets saved successfully as ../data/processed/resampled_data.pkl!\n"
     ]
    }
   ],
   "source": [
    "import pickle\n",
    "\n",
    "\n",
    "# Path to save the file\n",
    "save_path = \"../data/processed/resampled_data.pkl\"\n",
    "\n",
    "# Convert sparse matrices to store efficiently\n",
    "resampled_dict = {\n",
    "    method: {\"X\": csr_matrix(X_resampled), \"y\": y_resampled}\n",
    "    for method, (X_resampled, y_resampled) in resampled_datasets.items()\n",
    "}\n",
    "\n",
    "# Save the dictionary\n",
    "with open(save_path, \"wb\") as f:\n",
    "    pickle.dump(resampled_dict, f)\n",
    "\n",
    "print(f\"All resampled datasets saved successfully as {save_path}!\")\n"
   ]
  },
  {
   "cell_type": "code",
   "execution_count": 66,
   "metadata": {},
   "outputs": [
    {
     "name": "stdout",
     "output_type": "stream",
     "text": [
      "Test data saved successfully at: ../data/processed/test_data.pkl\n"
     ]
    }
   ],
   "source": [
    "import pickle\n",
    "\n",
    "# Define the save path\n",
    "save_path = \"../data/processed/test_data.pkl\"\n",
    "\n",
    "# Create a dictionary to store the objects\n",
    "data_to_save = {\n",
    "    \"label_encoder\": lbl_enc,\n",
    "    \"X_test\": X_test,\n",
    "    \"y_test\": y_test\n",
    "}\n",
    "\n",
    "# Save the dictionary as a pickle file\n",
    "with open(save_path, \"wb\") as f:\n",
    "    pickle.dump(data_to_save, f)\n",
    "\n",
    "print(f\"Test data saved successfully at: {save_path}\")"
   ]
  }
 ],
 "metadata": {
  "kernelspec": {
   "display_name": "venv",
   "language": "python",
   "name": "python3"
  },
  "language_info": {
   "codemirror_mode": {
    "name": "ipython",
    "version": 3
   },
   "file_extension": ".py",
   "mimetype": "text/x-python",
   "name": "python",
   "nbconvert_exporter": "python",
   "pygments_lexer": "ipython3",
   "version": "3.11.9"
  }
 },
 "nbformat": 4,
 "nbformat_minor": 2
}
